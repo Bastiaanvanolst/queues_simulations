{
 "cells": [
  {
   "cell_type": "markdown",
   "metadata": {},
   "source": [
    "# Tutorial 3, solutions\n",
    "\n",
    "\n",
    "This solution is a jupyter notebook which allows you to directly interact with the code so that\n",
    "you can see the effect of any changes you may like to make.\n",
    "\n",
    "Author: Nicky van Foreest"
   ]
  },
  {
   "cell_type": "code",
   "execution_count": 1,
   "metadata": {},
   "outputs": [
    {
     "name": "stdout",
     "output_type": "stream",
     "text": [
      "Klara 18\n",
      "Piet 20\n",
      "Jan 21\n",
      "Cynthia 25\n"
     ]
    }
   ],
   "source": [
    "from heapq import heappop, heappush\n",
    "import scipy\n",
    "from scipy.stats import uniform, expon\n",
    "\n",
    "scipy.random.seed(3)\n",
    "\n",
    "def sort_ages():\n",
    "    stack = []\n",
    "\n",
    "    heappush(stack, (21, \"Jan\"))\n",
    "    heappush(stack, (20, \"Piet\"))\n",
    "    heappush(stack, (18, \"Klara\"))\n",
    "    heappush(stack, (25, \"Cynthia\"))\n",
    "\n",
    "    while stack:\n",
    "        age, name = heappop(stack)\n",
    "        print(name, age)\n",
    "\n",
    "sort_ages()"
   ]
  },
  {
   "cell_type": "code",
   "execution_count": 2,
   "metadata": {},
   "outputs": [
    {
     "name": "stdout",
     "output_type": "stream",
     "text": [
      "18 Klara Motorola\n",
      "20 Piet Apple\n",
      "21 Jan Huawei\n",
      "25 Cynthia Nexus\n"
     ]
    }
   ],
   "source": [
    "def sort_ages_with_more_info():\n",
    "    stack = []\n",
    "\n",
    "    heappush(stack, (21, \"Jan\", \"Huawei\"))\n",
    "    heappush(stack, (20, \"Piet\", \"Apple\"))\n",
    "    heappush(stack, (18, \"Klara\", \"Motorola\"))\n",
    "    heappush(stack, (25, \"Cynthia\", \"Nexus\"))\n",
    "\n",
    "    while stack:\n",
    "        age, name, phone = heappop(stack)\n",
    "        print(age, name, phone)\n",
    "\n",
    "sort_ages_with_more_info()"
   ]
  },
  {
   "cell_type": "code",
   "execution_count": 3,
   "metadata": {},
   "outputs": [],
   "source": [
    "# void  code for numbering"
   ]
  },
  {
   "cell_type": "code",
   "execution_count": 4,
   "metadata": {},
   "outputs": [],
   "source": [
    "ARRIVAL = 0\n",
    "DEPARTURE = 1\n",
    "\n",
    "stack = [] # this is the event stack"
   ]
  },
  {
   "cell_type": "code",
   "execution_count": 5,
   "metadata": {},
   "outputs": [],
   "source": [
    "class Job:\n",
    "    def __init__(self):\n",
    "        self.arrival_time = 0\n",
    "        self.service_time = 0\n",
    "        self.departure_time = 0\n",
    "        self.queue_length_at_arrival = 0\n",
    "\n",
    "    def sojourn_time(self):\n",
    "        return self.departure_time - self.arrival_time\n",
    "\n",
    "    def waiting_time(self):\n",
    "        return self.sojourn_time() - self.service_time\n",
    "\n",
    "    def __repr__(self):\n",
    "        return f\"{self.arrival_time}, {self.service_time}, {self.departure_time}\\n\"\n",
    "\n",
    "    def __le__(self, other):\n",
    "        # this is necessary to sort jobs when they have the same arrival times.\n",
    "        return self.id <= other.id\n"
   ]
  },
  {
   "cell_type": "code",
   "execution_count": 6,
   "metadata": {},
   "outputs": [
    {
     "name": "stdout",
     "output_type": "stream",
     "text": [
      "0.4001411934412399, 0.4105026155801149, 0\n",
      "\n",
      "0.5720238942868375, 0.2383467686762716, 0\n",
      "\n",
      "1.6892393010894828, 0.7553955070531961, 0\n",
      "\n",
      "1.756339572439428, 0.07741279395386719, 0\n",
      "\n",
      "1.7827590288232624, 0.19375523043743875, 0\n",
      "\n",
      "1.7979248278113555, 0.20344628960353223, 0\n",
      "\n",
      "2.321614593718849, 0.10880175821867327, 0\n",
      "\n",
      "2.885513997386044, 0.29790158981221126, 0\n",
      "\n",
      "2.8976510621876375, 0.272793197341875, 0\n",
      "\n",
      "3.04769876009649, 0.17877214435204763, 0\n",
      "\n"
     ]
    }
   ],
   "source": [
    "def experiment_1():\n",
    "    labda = 2.0\n",
    "    mu = 3.0\n",
    "    rho = labda / mu\n",
    "    F = expon(scale=1.0 / labda)  # interarrival time distributon\n",
    "    G = expon(scale=1.0 / mu)  # service time distributon\n",
    "\n",
    "    num_jobs = 10\n",
    "\n",
    "    time = 0\n",
    "    for i in range(num_jobs):\n",
    "        time += F.rvs()\n",
    "        job = Job()\n",
    "        job.arrival_time = time\n",
    "        job.service_time = G.rvs()\n",
    "        heappush(stack, (job.arrival_time, job, ARRIVAL))\n",
    "\n",
    "    while stack:\n",
    "        time, job, typ = heappop(stack)\n",
    "        print(job)\n",
    "\n",
    "\n",
    "\n",
    "experiment_1()"
   ]
  },
  {
   "cell_type": "code",
   "execution_count": 7,
   "metadata": {},
   "outputs": [],
   "source": [
    "class Server:\n",
    "    def __init__(self):\n",
    "        self.busy = False\n",
    "\n",
    "server = Server()\n",
    "queue = []\n",
    "served_jobs = [] # used for statistics\n",
    "\n",
    "def start_service(time, job):\n",
    "    server.busy = True\n",
    "    job.departure_time = time + job.service_time\n",
    "    heappush(stack, (job.departure_time, job, DEPARTURE))\n",
    "\n",
    "def handle_arrival(time, job):\n",
    "    job.queue_length_at_arrival = len(queue)\n",
    "    if server.busy:\n",
    "        queue.append(job)\n",
    "    else:\n",
    "        start_service(time, job)\n",
    "\n",
    "def handle_departure(time, job):\n",
    "    server.busy = False\n",
    "    if queue: # queue is not empty\n",
    "        next_job = queue.pop(0) # pop oldest job in queue\n",
    "        start_service(time, next_job)"
   ]
  },
  {
   "cell_type": "code",
   "execution_count": 8,
   "metadata": {},
   "outputs": [
    {
     "name": "stdout",
     "output_type": "stream",
     "text": [
      "Theoretical avg. queue length:  1.333333333333333\n",
      "Simulated avg. queue length: 0.1\n",
      "Theoretical avg. sojourn time: 0.9999999999999999\n",
      "Simulated avg. sojourn time: 0.43616282815102236\n"
     ]
    }
   ],
   "source": [
    "def experiment_2():\n",
    "    labda = 2.0\n",
    "    mu = 3.0\n",
    "    rho = labda / mu\n",
    "    F = expon(scale=1.0 / labda)  # interarrival time distributon\n",
    "    G = expon(scale=1.0 / mu)  # service time distributon\n",
    "    num_jobs = 10  # too small, change it to a larger number, and rerun the experiment\n",
    "\n",
    "    time = 0\n",
    "    for i in range(num_jobs):\n",
    "        time += F.rvs()\n",
    "        job = Job()\n",
    "        job.arrival_time = time\n",
    "        job.service_time = G.rvs()\n",
    "        heappush(stack, (job.arrival_time, job, ARRIVAL))\n",
    "\n",
    "    while stack:\n",
    "        time, job, typ = heappop(stack)\n",
    "        if typ == ARRIVAL:\n",
    "            handle_arrival(time, job)\n",
    "        else:\n",
    "            handle_departure(time, job)\n",
    "            served_jobs.append(job)\n",
    "\n",
    "    tot_queue = sum(j.queue_length_at_arrival for j in served_jobs)\n",
    "    av_queue_length = tot_queue / len(served_jobs)\n",
    "    print(\"Theoretical avg. queue length: \", rho * rho / (1 - rho))\n",
    "    print(\"Simulated avg. queue length:\", av_queue_length)\n",
    "\n",
    "    tot_sojourn = sum(j.sojourn_time() for j in served_jobs)\n",
    "    av_sojourn_time = tot_sojourn/len(served_jobs)\n",
    "    print(\"Theoretical avg. sojourn time:\", (1./labda)*rho/(1-rho))\n",
    "    print(\"Simulated avg. sojourn time:\", av_sojourn_time)\n",
    "\n",
    "experiment_2()\n"
   ]
  },
  {
   "cell_type": "code",
   "execution_count": 9,
   "metadata": {},
   "outputs": [
    {
     "name": "stdout",
     "output_type": "stream",
     "text": [
      "Theoretical avg. queue length:  1.333333333333333\n",
      "Simulated avg. queue length: 0.7495049504950495\n",
      "Theoretical avg. sojourn time: 0.9999999999999999\n",
      "Simulated avg. sojourn time: 0.7389998666992809\n"
     ]
    }
   ],
   "source": [
    "def experiment_2a():\n",
    "    labda = 2.0\n",
    "    mu = 3.0\n",
    "    rho = labda / mu\n",
    "    F = expon(scale=1.0 / labda)  # interarrival time distributon\n",
    "    G = expon(scale=1.0 / mu)  # service time distributon\n",
    "    num_jobs = 1000\n",
    "\n",
    "    time = 0\n",
    "    for i in range(num_jobs):\n",
    "        time += F.rvs()\n",
    "        job = Job()\n",
    "        job.arrival_time = time\n",
    "        job.service_time = G.rvs()\n",
    "        heappush(stack, (job.arrival_time, job, ARRIVAL))\n",
    "\n",
    "    while stack:\n",
    "        time, job, typ = heappop(stack)\n",
    "        if typ == ARRIVAL:\n",
    "            handle_arrival(time, job)\n",
    "        else:\n",
    "            handle_departure(time, job)\n",
    "            served_jobs.append(job)\n",
    "\n",
    "    tot_queue = sum(j.queue_length_at_arrival for j in served_jobs)\n",
    "    av_queue_length = tot_queue / len(served_jobs)\n",
    "    print(\"Theoretical avg. queue length: \", rho * rho / (1 - rho))\n",
    "    print(\"Simulated avg. queue length:\", av_queue_length)\n",
    "\n",
    "    tot_sojourn = sum(j.sojourn_time() for j in served_jobs)\n",
    "    av_sojourn_time = tot_sojourn/len(served_jobs)\n",
    "    print(\"Theoretical avg. sojourn time:\", (1./labda)*rho/(1-rho))\n",
    "    print(\"Simulated avg. sojourn time:\", av_sojourn_time)\n",
    "\n",
    "experiment_2a()"
   ]
  },
  {
   "cell_type": "code",
   "execution_count": 10,
   "metadata": {},
   "outputs": [
    {
     "name": "stdout",
     "output_type": "stream",
     "text": [
      "3.000002695509519, 2.0000027525679416, 5.000005448077461\n",
      "\n",
      "6.000007807537832, 2.000008753692769, 8.000016561230602\n",
      "\n",
      "9.000013148259669, 2.000000735900243, 11.000013884159912\n",
      "\n",
      "12.000022528752462, 2.000001265741311, 14.000023794493773\n",
      "\n",
      "15.000027027621853, 2.0000068305113157, 17.00003385813317\n",
      "\n",
      "18.000033368925727, 2.000003079168399, 20.000036448094125\n",
      "\n",
      "21.000039002721504, 2.0000059730566635, 23.000044975778167\n",
      "\n",
      "24.000039654048052, 2.0000087385505694, 26.00004839259862\n",
      "\n",
      "27.000043611195366, 2.000004346225087, 29.000047957420453\n",
      "\n",
      "30.00004829631633, 2.0000082152836574, 32.000056511599986\n",
      "\n"
     ]
    }
   ],
   "source": [
    "from scipy.stats import uniform\n",
    "\n",
    "stack = [] # this is the event stack\n",
    "queue = []\n",
    "served_jobs = [] # used for statistics\n",
    "\n",
    "def experiment_3():\n",
    "    labda = 2.0\n",
    "    mu = 3.0\n",
    "    rho = labda / mu\n",
    "    F = uniform(3, 0.00001)\n",
    "    G = uniform(2, 0.00001)\n",
    "    num_jobs = 10\n",
    "\n",
    "    time = 0\n",
    "    for i in range(num_jobs):\n",
    "        time += F.rvs()\n",
    "        job = Job()\n",
    "        job.arrival_time = time\n",
    "        job.service_time = G.rvs()\n",
    "        heappush(stack, (job.arrival_time, job, ARRIVAL))\n",
    "\n",
    "    while stack:\n",
    "        time, job, typ = heappop(stack)\n",
    "        if typ == ARRIVAL:\n",
    "            handle_arrival(time, job)\n",
    "        else:\n",
    "            handle_departure(time, job)\n",
    "            served_jobs.append(job)\n",
    "\n",
    "    for j in served_jobs:\n",
    "        print(j)\n",
    "\n",
    "\n",
    "experiment_3()"
   ]
  },
  {
   "cell_type": "code",
   "execution_count": 11,
   "metadata": {},
   "outputs": [
    {
     "name": "stdout",
     "output_type": "stream",
     "text": [
      "PK:  0.722222222222222\n"
     ]
    }
   ],
   "source": [
    "\n",
    "def pollaczek_khinchine(labda, G):\n",
    "    ES = G.mean()\n",
    "    rho = labda*ES\n",
    "    ce2 = G.var()/ES/ES\n",
    "    EW = (1.+ce2)/2 * rho/(1-rho)*ES\n",
    "    return EW\n",
    "\n",
    "\n",
    "labda = 1./3\n",
    "F = expon(scale=1./labda)  # interarrival time distributon\n",
    "G = uniform(1, 2)\n",
    "\n",
    "print(\"PK: \", labda*pollaczek_khinchine(labda,G))"
   ]
  },
  {
   "cell_type": "code",
   "execution_count": 12,
   "metadata": {},
   "outputs": [
    {
     "name": "stdout",
     "output_type": "stream",
     "text": [
      "ES:  2.5 rho:  0.8333333333333333\n",
      "Theoretical avg. queue length:  2.333333333333332\n",
      "Simulated avg. queue length: 1.63\n",
      "Theoretical avg. sojourn time:  9.499999999999996\n",
      "Avg. sojourn time: 7.575264285500065\n"
     ]
    }
   ],
   "source": [
    "stack = [] # this is the event stack\n",
    "queue = []\n",
    "served_jobs = [] # used for statistics\n",
    "\n",
    "def test_mg1():\n",
    "    job = Job()\n",
    "    labda = 1.0 / 3\n",
    "    F = expon(scale=1.0 / labda)  # interarrival time distributon\n",
    "    G = uniform(1, 3)\n",
    "    print(\"ES: \", G.mean(), \"rho: \", labda * G.mean())\n",
    "\n",
    "    num_jobs = 1000\n",
    "\n",
    "    time = 0\n",
    "    for i in range(num_jobs):\n",
    "        time += F.rvs()\n",
    "        job = Job()\n",
    "        job.arrival_time = time\n",
    "        job.service_time = G.rvs()\n",
    "        heappush(stack, (job.arrival_time, job, ARRIVAL))\n",
    "\n",
    "    while stack:\n",
    "        time, job, typ = heappop(stack)\n",
    "        if typ == ARRIVAL:\n",
    "            handle_arrival(time, job)\n",
    "        else:\n",
    "            handle_departure(time, job)\n",
    "            served_jobs.append(job)\n",
    "\n",
    "    tot_queue = sum(j.queue_length_at_arrival for j in served_jobs)\n",
    "    av_queue_length = tot_queue / len(served_jobs)\n",
    "    print(\"Theoretical avg. queue length: \", labda * pollaczek_khinchine(labda, G))\n",
    "    print(\"Simulated avg. queue length:\", av_queue_length)\n",
    "\n",
    "    tot_sojourn = sum(j.sojourn_time() for j in served_jobs)\n",
    "    av_sojourn_time = tot_sojourn / len(served_jobs)\n",
    "    print(\"Theoretical avg. sojourn time: \", pollaczek_khinchine(labda, G) + G.mean())\n",
    "    print(\"Avg. sojourn time:\", av_sojourn_time)\n",
    "\n",
    "test_mg1()"
   ]
  },
  {
   "cell_type": "code",
   "execution_count": 13,
   "metadata": {},
   "outputs": [],
   "source": [
    "import numpy as np\n",
    "\n",
    "F = np.sort(uniform(0, 120).rvs(60))"
   ]
  },
  {
   "cell_type": "code",
   "execution_count": 14,
   "metadata": {},
   "outputs": [
    {
     "name": "stdout",
     "output_type": "stream",
     "text": [
      "Simulated avg. queue length: 5.0\n",
      "Avg. sojourn time: 17.437362698760733\n",
      "Queue length distributon, sloppy output\n",
      "[(0, 13), (1, 6), (2, 7), (3, 7), (4, 2), (5, 2), (6, 4), (7, 1), (8, 3), (9, 2), (10, 1), (11, 2), (12, 2), (13, 2), (14, 4), (15, 2)]\n"
     ]
    }
   ],
   "source": [
    "from collections import Counter\n",
    "\n",
    "stack = [] # this is the event stack\n",
    "queue = []\n",
    "served_jobs = [] # used for statistics\n",
    "\n",
    "def check_in():\n",
    "    num_jobs = 60\n",
    "    F = np.sort(uniform(0, 120).rvs(num_jobs))\n",
    "    G = uniform(1, 3)\n",
    "\n",
    "    for i in range(num_jobs):\n",
    "        job = Job()\n",
    "        job.arrival_time = F[i]\n",
    "        job.service_time = G.rvs()\n",
    "        heappush(stack, (job.arrival_time, job, ARRIVAL))\n",
    "\n",
    "    while stack:\n",
    "        time, job, typ = heappop(stack)\n",
    "        if typ == ARRIVAL:\n",
    "            handle_arrival(time, job)\n",
    "        else:\n",
    "            handle_departure(time, job)\n",
    "            served_jobs.append(job)\n",
    "\n",
    "    tot_queue = sum(j.queue_length_at_arrival for j in served_jobs)\n",
    "    av_queue_length = tot_queue / len(served_jobs)\n",
    "    print(\"Simulated avg. queue length:\", av_queue_length)\n",
    "\n",
    "    tot_sojourn = sum(j.sojourn_time() for j in served_jobs)\n",
    "    av_sojourn_time = tot_sojourn / len(served_jobs)\n",
    "    print(\"Avg. sojourn time:\", av_sojourn_time)\n",
    "\n",
    "    c = Counter([j.queue_length_at_arrival for j in served_jobs])\n",
    "    print(\"Queue length distributon, sloppy output\")\n",
    "    print(sorted(c.items()))\n",
    "\n",
    "\n",
    "check_in()"
   ]
  },
  {
   "cell_type": "code",
   "execution_count": 15,
   "metadata": {},
   "outputs": [
    {
     "data": {
      "text/plain": [
       "<Figure size 640x480 with 1 Axes>"
      ]
     },
     "metadata": {},
     "output_type": "display_data"
    }
   ],
   "source": [
    "import matplotlib.pyplot as plt\n",
    "\n",
    "x = [job.arrival_time for job in served_jobs]\n",
    "y = [job.queue_length_at_arrival for job in served_jobs]\n",
    "\n",
    "plt.plot(x, y, \"o\")\n",
    "plt.show()"
   ]
  },
  {
   "cell_type": "code",
   "execution_count": 16,
   "metadata": {},
   "outputs": [
    {
     "name": "stdout",
     "output_type": "stream",
     "text": [
      "Simulated avg. queue length: 0.85\n",
      "Avg. sojourn time: 4.118316559733122\n"
     ]
    },
    {
     "data": {
      "image/png": "[encoded data removed]",
      "text/plain": [
       "<Figure size 432x288 with 1 Axes>"
      ]
     },
     "metadata": {
      "needs_background": "light"
     },
     "output_type": "display_data"
    }
   ],
   "source": [
    "stack = [] # this is the event stack\n",
    "queue = []\n",
    "served_jobs = [] # used for statistics\n",
    "\n",
    "def check_in_2():\n",
    "    num_jobs = 60\n",
    "    F = np.sort(uniform(0, 150).rvs(num_jobs))\n",
    "    G = uniform(1, 2)\n",
    "\n",
    "    for i in range(num_jobs):\n",
    "        job = Job()\n",
    "        job.arrival_time = F[i]\n",
    "        job.service_time = G.rvs()\n",
    "        heappush(stack, (job.arrival_time, job, ARRIVAL))\n",
    "\n",
    "    while stack:\n",
    "        time, job, typ = heappop(stack)\n",
    "        if typ == ARRIVAL:\n",
    "            handle_arrival(time, job)\n",
    "        else:\n",
    "            handle_departure(time, job)\n",
    "            served_jobs.append(job)\n",
    "\n",
    "    tot_queue = sum(j.queue_length_at_arrival for j in served_jobs)\n",
    "    av_queue_length = tot_queue / len(served_jobs)\n",
    "    print(\"Simulated avg. queue length:\", av_queue_length)\n",
    "\n",
    "    tot_sojourn = sum(j.sojourn_time() for j in served_jobs)\n",
    "    av_sojourn_time = tot_sojourn / len(served_jobs)\n",
    "    print(\"Avg. sojourn time:\", av_sojourn_time)\n",
    "\n",
    "    x = [job.arrival_time for job in served_jobs]\n",
    "    y = [job.queue_length_at_arrival for job in served_jobs]\n",
    "    \n",
    "    plt.plot(x, y, \"o\")\n",
    "    plt.show()\n",
    "check_in_2()\n"
   ]
  }
 ],
 "metadata": {
  "anaconda-cloud": {},
  "kernelspec": {
   "display_name": "Python 3",
   "language": "python",
   "name": "python3"
  },
  "language_info": {
   "codemirror_mode": {
    "name": "ipython",
    "version": 3
   },
   "file_extension": ".py",
   "mimetype": "text/x-python",
   "name": "python",
   "nbconvert_exporter": "python",
   "pygments_lexer": "ipython3",
   "version": "3.7.1"
  }
 },
 "nbformat": 4,
 "nbformat_minor": 1
}
