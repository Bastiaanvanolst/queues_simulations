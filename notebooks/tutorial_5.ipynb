{
 "cells": [
  {
   "cell_type": "markdown",
   "metadata": {},
   "source": [
    "# Tutorial 5, solutions\n",
    "\n",
    "\n",
    "This solution is a jupyter notebook which allows you to directly interact with the code so that\n",
    "you can see the effect of any changes you may like to make.\n",
    "\n",
    "Author: Nicky van Foreest"
   ]
  },
  {
   "cell_type": "code",
   "execution_count": 1,
   "metadata": {},
   "outputs": [],
   "source": [
    "from collections import deque\n",
    "from heapq import heappop, heappush\n",
    "import numpy as np\n",
    "from scipy.stats import expon, uniform\n",
    "\n",
    "np.random.seed(8)\n",
    "\n",
    "ARRIVAL = 0\n",
    "DEPARTURE = 1\n",
    "\n",
    "ECONOMY = 0\n",
    "BUSINESS = 1"
   ]
  },
  {
   "cell_type": "code",
   "execution_count": 2,
   "metadata": {},
   "outputs": [],
   "source": [
    "\n",
    "\n",
    "class Job:\n",
    "    def __init__(self):\n",
    "        self.arrival_time = 0\n",
    "        self.service_time = 0\n",
    "        self.customer_type = ECONOMY\n",
    "        self.server_type = ECONOMY\n",
    "        self.departure_time = 0\n",
    "        self.queue_length_at_arrival = 0\n",
    "\n",
    "    def sojourn_time(self):\n",
    "        return self.departure_time - self.arrival_time\n",
    "\n",
    "    def waiting_time(self):\n",
    "        return self.sojourn_time() - self.service_time\n",
    "\n",
    "    def service_start(self):\n",
    "        return self.departure_time - self.service_time\n",
    "\n",
    "    def __repr__(self):\n",
    "        return f\"{self.customer_type}, {self.server_type}, {self.arrival_time}, {self.service_time}, {self.service_start()}, {self.departure_time}\\n\"\n",
    "\n",
    "    def __lt__(self, other):\n",
    "        # this is necessary to sort jobs when they have the same arrival times.\n",
    "        return self.queue_length_at_arrival < other.queue_length_at_arrival\n"
   ]
  },
  {
   "cell_type": "code",
   "execution_count": 3,
   "metadata": {},
   "outputs": [],
   "source": [
    "\n",
    "\n",
    "def generate_jobs(A, S, p_business):\n",
    "    jobs = set()\n",
    "    num_jobs = len(A)\n",
    "    p = uniform(0, 1).rvs(num_jobs)\n",
    "\n",
    "    for n in range(num_jobs):\n",
    "        job = Job()\n",
    "        job.arrival_time = A[n]\n",
    "        job.service_time = S[n]\n",
    "        if p[n] < p_business:\n",
    "            job.customer_type = BUSINESS\n",
    "        else:\n",
    "            job.customer_type = ECONOMY\n",
    "        jobs.add(job)\n",
    "\n",
    "    return jobs\n"
   ]
  },
  {
   "cell_type": "code",
   "execution_count": 4,
   "metadata": {},
   "outputs": [],
   "source": [
    "\n",
    "\n",
    "class GGc_with_business:\n",
    "    def __init__(self, c, jobs):\n",
    "        self.b = 1  # number of b servers\n",
    "        self.c = c  # number of e servers\n",
    "        self.jobs = jobs\n",
    "\n",
    "        self.num_b_busy = 0\n",
    "        self.num_e_busy = 0\n",
    "        self.stack = []\n",
    "        self.b_queue = deque()\n",
    "        self.e_queue = deque()\n",
    "\n",
    "        self.fill_stack()\n",
    "\n",
    "    def fill_stack(self):\n",
    "        for job in sorted(self.jobs, key=lambda j: j.arrival_time):\n",
    "            heappush(self.stack, (job.arrival_time, job, ARRIVAL))\n",
    "\n",
    "    def handle_arrival(self, time, job):\n",
    "        if job.customer_type == BUSINESS:\n",
    "            job.queue_length_at_arrival = len(self.b_queue)\n",
    "        else:\n",
    "            job.queue_length_at_arrival = len(self.e_queue)\n",
    "\n",
    "        if job.customer_type == ECONOMY:\n",
    "            if self.num_e_busy < self.c:\n",
    "                job.server_type = ECONOMY\n",
    "                self.start_service(time, job)\n",
    "            elif self.num_b_busy < self.b:\n",
    "                job.server_type = BUSINESS\n",
    "                self.start_service(time, job)\n",
    "            else:\n",
    "                self.e_queue.append(job)\n",
    "        else:  # business customer\n",
    "            if self.num_b_busy < self.b:\n",
    "                job.server_type = BUSINESS\n",
    "                self.start_service(time, job)\n",
    "            elif self.num_e_busy < self.c:\n",
    "                job.server_type = ECONOMY\n",
    "                self.start_service(time, job)\n",
    "            else:\n",
    "                self.b_queue.append(job)\n",
    "\n",
    "    def start_service(self, time, job):\n",
    "        if job.server_type == BUSINESS:\n",
    "            self.num_b_busy += 1\n",
    "        else:\n",
    "            self.num_e_busy += 1\n",
    "        job.departure_time = time + job.service_time\n",
    "        heappush(self.stack, (job.departure_time, job, DEPARTURE))\n",
    "\n",
    "    def pop_from_queue_set_server_and_start(self, time, queue, server_type):\n",
    "        next_job = queue.popleft()\n",
    "        next_job.server_type = server_type\n",
    "        self.start_service(time, next_job)\n",
    "\n",
    "    def handle_departure(self, time, job):\n",
    "        if job.server_type == BUSINESS:\n",
    "            self.num_b_busy -= 1\n",
    "            if self.b_queue:\n",
    "                self.pop_from_queue_set_server_and_start(time, self.b_queue, BUSINESS)\n",
    "            elif self.e_queue:\n",
    "                self.pop_from_queue_set_server_and_start(time, self.e_queue, BUSINESS)\n",
    "        else:  # economy server free\n",
    "            self.num_e_busy -= 1\n",
    "            if self.e_queue:\n",
    "                self.pop_from_queue_set_server_and_start(time, self.e_queue, ECONOMY)\n",
    "            elif self.b_queue:\n",
    "                self.pop_from_queue_set_server_and_start(time, self.b_queue, ECONOMY)\n",
    "\n",
    "    def run(self):\n",
    "        time = 0\n",
    "        while self.stack:  # not empty\n",
    "            time, job, epoch_type = heappop(self.stack)\n",
    "            if epoch_type == ARRIVAL:\n",
    "                self.handle_arrival(time, job)\n",
    "            else:\n",
    "                self.handle_departure(time, job)\n",
    "\n",
    "    def print_served_job(self):\n",
    "        for j in sorted(self.jobs, key=lambda j: j.arrival_time):\n",
    "            print(j)\n",
    "\n",
    "    def mean_waiting_time(self, customer_type=None):\n",
    "        if customer_type is None:\n",
    "            jobs = self.jobs\n",
    "        else:\n",
    "            jobs = set(j for j in self.jobs if j.customer_type == customer_type)\n",
    "        return sum(j.waiting_time() for j in jobs) / len(jobs)\n",
    "\n",
    "    def max_waiting_time(self, customer_type=None):\n",
    "        if customer_type is None:\n",
    "            return max(j.waiting_time() for j in self.jobs)\n",
    "        else:\n",
    "            return max(\n",
    "                j.waiting_time() for j in self.jobs if j.customer_type == customer_type\n",
    "            )\n"
   ]
  },
  {
   "cell_type": "code",
   "execution_count": 5,
   "metadata": {},
   "outputs": [],
   "source": [
    "def sakasegawa(F, G, c):\n",
    "    labda = 1.0 / F.mean()\n",
    "    ES = G.mean()\n",
    "    rho = labda * ES / c\n",
    "    EWQ_1 = rho ** (np.sqrt(2 * (c + 1)) - 1) / (c * (1 - rho)) * ES\n",
    "    ca2 = F.var() * labda * labda\n",
    "    ce2 = G.var() / ES / ES\n",
    "    return (ca2 + ce2) / 2 * EWQ_1\n"
   ]
  },
  {
   "cell_type": "code",
   "execution_count": 6,
   "metadata": {},
   "outputs": [],
   "source": [
    "\n",
    "\n",
    "def make_arrivals_and_services(F, G, num_jobs):\n",
    "    a = F.rvs(num_jobs)\n",
    "    A = np.cumsum(a)\n",
    "    S = G.rvs(num_jobs)\n",
    "    return A, S\n"
   ]
  },
  {
   "cell_type": "code",
   "execution_count": 7,
   "metadata": {},
   "outputs": [
    {
     "name": "stdout",
     "output_type": "stream",
     "text": [
      "1, 1, 1.0000873429402792, 0.5000011464268599, 1.0000873429402792, 1.5000884893671391\n",
      "\n",
      "1, 1, 2.0001841970065612, 0.5000562941744815, 2.0001841970065612, 2.5002404911810427\n",
      "\n",
      "1, 1, 3.0002711164605826, 0.5000514752256303, 3.0002711164605826, 3.500322591686213\n",
      "\n",
      "1, 1, 4.000324202029738, 0.5000739556989864, 4.000324202029738, 4.500398157728724\n",
      "\n",
      "1, 1, 5.000347474862536, 0.5000650838539586, 5.000347474862536, 5.500412558716494\n",
      "\n"
     ]
    }
   ],
   "source": [
    "\n",
    "\n",
    "def DD1_test_1():\n",
    "    # test with only business customers\n",
    "    c = 0\n",
    "    F = uniform(1, 0.0001)\n",
    "    G = expon(0.5, 0.0001)\n",
    "    num_jobs = 5\n",
    "    p_business = 1\n",
    "    A, S = make_arrivals_and_services(F, G, num_jobs)\n",
    "    jobs = generate_jobs(A, S, p_business)\n",
    "    ggc = GGc_with_business(c, jobs)\n",
    "    ggc.run()\n",
    "    ggc.print_served_job()\n",
    "\n",
    "\n",
    "DD1_test_1()"
   ]
  },
  {
   "cell_type": "code",
   "execution_count": 8,
   "metadata": {},
   "outputs": [
    {
     "name": "stdout",
     "output_type": "stream",
     "text": [
      "0, 0, 1.0000426091770476, 0.5000068073709532, 1.0000426091770476, 1.5000494165480007\n",
      "\n",
      "0, 0, 2.0000715166798493, 0.5004066955873369, 2.0000715166798493, 2.5004782122671863\n",
      "\n",
      "0, 0, 3.0001689022039693, 0.5000136800401932, 3.0001689022039693, 3.5001825822441623\n",
      "\n",
      "0, 0, 4.00020227960852, 0.5000388800919982, 4.00020227960852, 4.5002411597005185\n",
      "\n",
      "0, 0, 5.000224159714602, 0.5000073585018648, 5.000224159714602, 5.5002315182164665\n",
      "\n"
     ]
    }
   ],
   "source": [
    "\n",
    "\n",
    "def DD1_test_2():\n",
    "    # test with only economy customers\n",
    "    c = 1\n",
    "    F = uniform(1, 0.0001)\n",
    "    G = expon(0.5, 0.0001)\n",
    "    p_business = 0\n",
    "    num_jobs = 5\n",
    "    A, S = make_arrivals_and_services(F, G, num_jobs)\n",
    "    jobs = generate_jobs(A, S, p_business)\n",
    "    ggc = GGc_with_business(c, jobs)\n",
    "    ggc.run()\n",
    "    ggc.print_served_job()\n",
    "\n",
    "\n",
    "DD1_test_2()"
   ]
  },
  {
   "cell_type": "code",
   "execution_count": 9,
   "metadata": {},
   "outputs": [
    {
     "name": "stdout",
     "output_type": "stream",
     "text": [
      "0, 1, 1.0000028732048962, 0.5000385206403165, 1.0000028732048962, 1.5000413938452128\n",
      "\n",
      "0, 1, 2.0000380416785233, 0.5000566472121346, 2.0000380416785237, 2.500094688890658\n",
      "\n",
      "0, 1, 3.0000761375674436, 0.5000314910410787, 3.0000761375674436, 3.5001076286085224\n",
      "\n",
      "0, 1, 4.00015255358058, 0.500161473132951, 4.00015255358058, 4.500314026713531\n",
      "\n",
      "0, 1, 5.0002464339719115, 0.5001016770970268, 5.0002464339719115, 5.500348111068938\n",
      "\n"
     ]
    }
   ],
   "source": [
    "\n",
    "\n",
    "def DD1_test_3():\n",
    "    # test with only economy customers but only a business server\n",
    "    c = 0\n",
    "    F = uniform(1, 0.0001)\n",
    "    G = expon(0.5, 0.0001)\n",
    "    p_business = 0\n",
    "    num_jobs = 5\n",
    "    A, S = make_arrivals_and_services(F, G, num_jobs)\n",
    "    jobs = generate_jobs(A, S, p_business)\n",
    "    ggc = GGc_with_business(c, jobs)\n",
    "    ggc.run()\n",
    "    ggc.print_served_job()\n",
    "\n",
    "\n",
    "DD1_test_3()"
   ]
  },
  {
   "cell_type": "code",
   "execution_count": 10,
   "metadata": {},
   "outputs": [
    {
     "name": "stdout",
     "output_type": "stream",
     "text": [
      "0, 0, 7.901725413382857e-05, 1.0000105790379397, 7.901725413383964e-05, 1.0000895962920735\n",
      "\n",
      "0, 1, 0.0001778769059452015, 1.000131363303936, 0.0001778769059452845, 1.0003092402098812\n",
      "\n",
      "0, 0, 0.00023627336029529816, 1.0002807611555136, 1.0000895962920737, 2.0003703574475873\n",
      "\n",
      "0, 1, 0.00024016459005953036, 1.0002870301833324, 1.000309240209881, 2.0005962703932134\n",
      "\n",
      "0, 0, 0.0002848068808113206, 1.0000469585324776, 2.0003703574475873, 3.000417315980065\n",
      "\n",
      "0, 1, 0.00030362413234065206, 1.0000905722388749, 2.0005962703932134, 3.0006868426320885\n",
      "\n",
      "0, 0, 0.0003663296970261769, 1.000108465823769, 3.000417315980065, 4.000525781803834\n",
      "\n",
      "0, 1, 0.0003878614769734515, 1.0000714535192632, 3.0006868426320885, 4.000758296151352\n",
      "\n",
      "0, 0, 0.00040295848773920116, 1.0000636563808463, 4.000525781803834, 5.00058943818468\n",
      "\n",
      "0, 1, 0.0004565729184071586, 1.0000008911878673, 4.000758296151352, 5.000759187339219\n",
      "\n"
     ]
    }
   ],
   "source": [
    "\n",
    "\n",
    "def DD2_test_1():\n",
    "    # test with only economy customers and one e_server. As the b_server is always present, we must have 2 servers.\n",
    "    # assume that all jobs arrive at time 0, and have service time 1\n",
    "    c = 1\n",
    "    F = uniform(0, 0.0001)\n",
    "    G = expon(1, 0.0001)\n",
    "    p_business = 0\n",
    "    num_jobs = 10\n",
    "    A, S = make_arrivals_and_services(F, G, num_jobs)\n",
    "    jobs = generate_jobs(A, S, p_business)\n",
    "    ggc = GGc_with_business(c, jobs)\n",
    "    ggc.run()\n",
    "    ggc.print_served_job()\n",
    "\n",
    "\n",
    "DD2_test_1()"
   ]
  },
  {
   "cell_type": "code",
   "execution_count": 11,
   "metadata": {},
   "outputs": [
    {
     "name": "stdout",
     "output_type": "stream",
     "text": [
      "1, 1, 0.9829148402935132, 0.935667583156166, 0.9829148402935131, 1.918582423449679\n",
      "\n",
      "1, 1, 2.34505995130281, 1.7089023830468935, 2.3450599513028103, 4.053962334349704\n",
      "\n",
      "1, 1, 3.1389920101377657, 0.750191376400479, 4.053962334349704, 4.804153710750183\n",
      "\n",
      "1, 1, 5.108236031750993, 2.8002335190323526, 5.108236031750993, 7.908469550783345\n",
      "\n",
      "1, 1, 6.525336122731557, 1.2851229012716343, 7.9084695507833445, 9.193592452054979\n",
      "\n",
      "1, 1, 8.760747506808187, 0.19693625188996403, 9.193592452054979, 9.390528703944943\n",
      "\n",
      "1, 1, 9.013430701959255, 0.9668616992971492, 9.390528703944943, 10.357390403242093\n",
      "\n",
      "1, 1, 9.407412992806286, 0.826183573343697, 10.357390403242093, 11.183573976585789\n",
      "\n",
      "1, 1, 10.12506817157068, 1.4414038315889446, 11.183573976585789, 12.624977808174734\n",
      "\n",
      "1, 1, 10.881109605285141, 1.6432343069487785, 12.624977808174734, 14.268212115123513\n",
      "\n"
     ]
    }
   ],
   "source": [
    "\n",
    "\n",
    "def mm1_test_1():\n",
    "    # test with only business customers but no e_server, very few jobs\n",
    "    c = 0\n",
    "    labda = 0.9\n",
    "    mu = 1\n",
    "    F = expon(scale=1.0 / labda)\n",
    "    G = expon(scale=1.0 / mu)\n",
    "    p_business = 1\n",
    "\n",
    "    num_jobs = 10\n",
    "    A, S = make_arrivals_and_services(F, G, num_jobs)\n",
    "    jobs = generate_jobs(A, S, p_business)\n",
    "    ggc = GGc_with_business(c, jobs)\n",
    "    ggc.run()\n",
    "    ggc.print_served_job()\n",
    "\n",
    "\n",
    "mm1_test_1()"
   ]
  },
  {
   "cell_type": "code",
   "execution_count": 12,
   "metadata": {},
   "outputs": [
    {
     "name": "stdout",
     "output_type": "stream",
     "text": [
      "theory:  8.999999999999991\n",
      "mean waiting:  8.717092494163326\n"
     ]
    }
   ],
   "source": [
    "\n",
    "\n",
    "def mm1_test_2():\n",
    "    # test with only economy customers but no e_server\n",
    "    c = 0\n",
    "    labda = 0.9\n",
    "    mu = 1\n",
    "    F = expon(scale=1.0 / labda)\n",
    "    G = expon(scale=1.0 / mu)\n",
    "    p_business = 0\n",
    "\n",
    "    print(\"theory: \", sakasegawa(F, G, c + 1))  # 1 for the business server\n",
    "\n",
    "    num_jobs = 100_000\n",
    "    A, S = make_arrivals_and_services(F, G, num_jobs)\n",
    "    jobs = generate_jobs(A, S, p_business)\n",
    "    ggc = GGc_with_business(c, jobs)\n",
    "    ggc.run()\n",
    "\n",
    "    print(\"mean waiting: \", ggc.mean_waiting_time())\n",
    "\n",
    "\n",
    "mm1_test_2()"
   ]
  },
  {
   "cell_type": "code",
   "execution_count": 13,
   "metadata": {},
   "outputs": [
    {
     "name": "stdout",
     "output_type": "stream",
     "text": [
      "theory:  8.999999999999991\n",
      "mean waiting:  9.736027176700428\n"
     ]
    }
   ],
   "source": [
    "\n",
    "\n",
    "def mm1_test_3():\n",
    "    # test with only business customers but no e_server\n",
    "    c = 0\n",
    "    labda = 0.9\n",
    "    mu = 1\n",
    "    F = expon(scale=1.0 / labda)\n",
    "    G = expon(scale=1.0 / mu)\n",
    "    p_business = 1\n",
    "\n",
    "    print(\"theory: \", sakasegawa(F, G, c + 1))  # 1 for the business server\n",
    "\n",
    "    num_jobs = 100_000\n",
    "    A, S = make_arrivals_and_services(F, G, num_jobs)\n",
    "    jobs = generate_jobs(A, S, p_business)\n",
    "    ggc = GGc_with_business(c, jobs)\n",
    "    ggc.run()\n",
    "\n",
    "    print(\"mean waiting: \", ggc.mean_waiting_time())\n",
    "\n",
    "\n",
    "mm1_test_3()"
   ]
  },
  {
   "cell_type": "code",
   "execution_count": 14,
   "metadata": {},
   "outputs": [
    {
     "name": "stdout",
     "output_type": "stream",
     "text": [
      "theory:  0.28572116393706454\n",
      "mean waiting:  0.2624273514424324\n"
     ]
    }
   ],
   "source": [
    "\n",
    "\n",
    "def mm2_test_1():\n",
    "    # test with only business customers and 1 e_server\n",
    "    c = 1\n",
    "    labda = 0.9\n",
    "    mu = 1\n",
    "    F = expon(scale=1.0 / labda)\n",
    "    G = expon(scale=1.0 / mu)\n",
    "    p_business = 1\n",
    "\n",
    "    print(\"theory: \", sakasegawa(F, G, c + 1))  # 1 for the business server\n",
    "\n",
    "    num_jobs = 100_000\n",
    "    A, S = make_arrivals_and_services(F, G, num_jobs)\n",
    "    jobs = generate_jobs(A, S, p_business)\n",
    "    ggc = GGc_with_business(c, jobs)\n",
    "    ggc.run()\n",
    "\n",
    "    # mind that Sakasegawa's result is an approximation for the M/M/c with c>1\n",
    "    print(\"mean waiting: \", ggc.mean_waiting_time())\n",
    "\n",
    "\n",
    "mm2_test_1()\n"
   ]
  },
  {
   "cell_type": "code",
   "execution_count": 15,
   "metadata": {},
   "outputs": [
    {
     "name": "stdout",
     "output_type": "stream",
     "text": [
      "theory:  0.28572116393706454\n",
      "mean waiting:  0.2617081708185768\n"
     ]
    }
   ],
   "source": [
    "\n",
    "\n",
    "def mm2_test_2():\n",
    "    # test with only economy customers and 1 e_server\n",
    "    c = 1\n",
    "    labda = 0.9\n",
    "    mu = 1\n",
    "    F = expon(scale=1.0 / labda)\n",
    "    G = expon(scale=1.0 / mu)\n",
    "    p_business = 0\n",
    "\n",
    "    print(\"theory: \", sakasegawa(F, G, c + 1))  # 1 for the business server\n",
    "\n",
    "    num_jobs = 100_000\n",
    "    A, S = make_arrivals_and_services(F, G, num_jobs)\n",
    "    jobs = generate_jobs(A, S, p_business)\n",
    "    ggc = GGc_with_business(c, jobs)\n",
    "    ggc.run()\n",
    "\n",
    "    print(\"mean waiting: \", ggc.mean_waiting_time())\n",
    "\n",
    "\n",
    "mm2_test_2()\n",
    "    "
   ]
  },
  {
   "cell_type": "code",
   "execution_count": 16,
   "metadata": {},
   "outputs": [],
   "source": [
    "import copy  # to copy the simulation data\n",
    "\n",
    "\n",
    "def case_analysis(jobs, c):\n",
    "    # we need the same jobs for all cases, so that we can compare in a fair way.\n",
    "    b_jobs = set(copy.copy(j) for j in jobs if j.customer_type == BUSINESS)\n",
    "    e_jobs = set(copy.copy(j) for j in jobs if j.customer_type == ECONOMY)\n",
    "\n",
    "    # Case 1: each class its own server, no sharing\n",
    "    bus = GGc_with_business(0, b_jobs)\n",
    "    bus.run()\n",
    "\n",
    "    eco = GGc_with_business(c - 1, e_jobs)\n",
    "    eco.run()\n",
    "\n",
    "    # Case 2: sharing with business server\n",
    "    shared = GGc_with_business(c, jobs)\n",
    "    shared.run()\n",
    "\n",
    "    print(\"separate: bus mean\", bus.mean_waiting_time())\n",
    "    print(\"shared: bus mean: \", shared.mean_waiting_time(BUSINESS))\n",
    "    print(\"separate: bus max\", bus.max_waiting_time())\n",
    "    print(\"shared: bus max: \", shared.max_waiting_time(BUSINESS))\n",
    "\n",
    "    print(\"separate: eco mean\", eco.mean_waiting_time())\n",
    "    print(\"shared: eco mean: \", shared.mean_waiting_time(ECONOMY))\n",
    "    print(\"separate: eco max\", eco.max_waiting_time())\n",
    "    print(\"shared: eco max: \", shared.max_waiting_time(ECONOMY))\n",
    "\n",
    "    print(\"shared: all mean: \", shared.mean_waiting_time())\n",
    "    print(\"shared: all max: \", shared.max_waiting_time())\n",
    "    print()\n"
   ]
  },
  {
   "cell_type": "code",
   "execution_count": 17,
   "metadata": {},
   "outputs": [
    {
     "name": "stdout",
     "output_type": "stream",
     "text": [
      "separate: bus mean 2.620893590927028\n",
      "shared: bus mean:  4.307184870016928\n",
      "separate: bus max 9.757114669693307\n",
      "shared: bus max:  11.170118916403565\n",
      "separate: eco mean 16.194420279720028\n",
      "shared: eco mean:  14.5886901390232\n",
      "separate: eco max 30.126955061480285\n",
      "shared: eco max:  26.081439961405717\n",
      "shared: all mean:  13.629082980582611\n",
      "shared: all max:  26.081439961405717\n",
      "\n"
     ]
    }
   ],
   "source": [
    "\n",
    "\n",
    "def case1():\n",
    "    num_jobs = 300\n",
    "    opening_time_of_desks = 60  # minutes\n",
    "    labda = num_jobs / opening_time_of_desks\n",
    "    F = expon(scale=1.0 / labda)\n",
    "    G = uniform(1, 2)\n",
    "    p_business = 0.1\n",
    "    c = 6\n",
    "    A, S = make_arrivals_and_services(F, G, num_jobs)\n",
    "    jobs = generate_jobs(A, S, p_business)\n",
    "    case_analysis(jobs, c)\n",
    "\n",
    "\n",
    "case1()"
   ]
  },
  {
   "cell_type": "code",
   "execution_count": 18,
   "metadata": {},
   "outputs": [
    {
     "name": "stdout",
     "output_type": "stream",
     "text": [
      "separate: bus mean 0.23674610086377795\n",
      "shared: bus mean:  0.13773541717589446\n",
      "separate: bus max 1.9737835833394382\n",
      "shared: bus max:  1.6670768334516914\n",
      "separate: eco mean 0.22297372849376582\n",
      "shared: eco mean:  0.07389087535485556\n",
      "separate: eco max 1.915034710474636\n",
      "shared: eco max:  0.9348786384353573\n",
      "shared: all mean:  0.07814717814292484\n",
      "shared: all max:  1.6670768334516914\n",
      "\n"
     ]
    }
   ],
   "source": [
    "\n",
    "\n",
    "def case2():\n",
    "    num_jobs = 300\n",
    "    labda = num_jobs / 180\n",
    "    F = expon(scale=1.0 / labda)\n",
    "    G = uniform(1, 2)\n",
    "    p_business = 0.05\n",
    "    c = 5\n",
    "    A, S = make_arrivals_and_services(F, G, num_jobs)\n",
    "    jobs = generate_jobs(A, S, p_business)\n",
    "    case_analysis(jobs, c)\n",
    "\n",
    "\n",
    "case2()\n",
    "      \n"
   ]
  }
 ],
 "metadata": {
  "anaconda-cloud": {},
  "kernelspec": {
   "display_name": "Python 3",
   "language": "python",
   "name": "python3"
  },
  "language_info": {
   "codemirror_mode": {
    "name": "ipython",
    "version": 3
   },
   "file_extension": ".py",
   "mimetype": "text/x-python",
   "name": "python",
   "nbconvert_exporter": "python",
   "pygments_lexer": "ipython3",
   "version": "3.7.5"
  }
 },
 "nbformat": 4,
 "nbformat_minor": 1
}
