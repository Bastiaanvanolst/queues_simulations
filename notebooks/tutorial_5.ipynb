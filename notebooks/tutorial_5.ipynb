{
 "cells": [
  {
   "cell_type": "markdown",
   "metadata": {},
   "source": [
    "# Tutorial 5, solutions\n",
    "\n",
    "\n",
    "This solution is a jupyter notebook which allows you to directly interact with\n",
    "the code so that you can see the effect of any changes you may like to make.\n",
    "\n",
    "Author: Nicky van Foreest"
   ]
  },
  {
   "cell_type": "code",
   "execution_count": 1,
   "metadata": {},
   "outputs": [],
   "source": [
    "import numpy as np\n",
    "\n",
    "from collections import deque\n",
    "from heapq import heappop, heappush\n",
    "from scipy.stats import expon, uniform\n",
    "\n",
    "np.random.seed(8)\n",
    "\n",
    "ARRIVAL = 0\n",
    "DEPARTURE = 1\n",
    "\n",
    "ECONOMY = 0\n",
    "BUSINESS = 1"
   ]
  },
  {
   "cell_type": "code",
   "execution_count": 2,
   "metadata": {},
   "outputs": [],
   "source": [
    "\n",
    "\n",
    "class Job:\n",
    "    def __init__(self):\n",
    "        self.arrival_time = 0\n",
    "        self.service_time = 0\n",
    "        self.customer_type = ECONOMY\n",
    "        self.server_type = ECONOMY\n",
    "        self.departure_time = 0\n",
    "        self.queue_length_at_arrival = 0\n",
    "\n",
    "    def sojourn_time(self):\n",
    "        return self.departure_time - self.arrival_time\n",
    "\n",
    "    def waiting_time(self):\n",
    "        return self.sojourn_time() - self.service_time\n",
    "\n",
    "    def service_start(self):\n",
    "        return self.departure_time - self.service_time\n",
    "\n",
    "    def __str__(self):  # What do you think this method does?\n",
    "        customer_type = \"E\" if self.customer_type == ECONOMY else \"B\"\n",
    "        server_type = \"E\" if self.server_type == ECONOMY else \"B\"\n",
    "\n",
    "        return f\"Job(\" \\\n",
    "               f\" customer_type={customer_type},\" \\\n",
    "               f\" server_type={server_type},\" \\\n",
    "               f\" arrival_time={self.arrival_time:.2f},\" \\\n",
    "               f\" service_time={self.service_time:.2f},\" \\\n",
    "               f\" service_start={self.service_start():.2f},\" \\\n",
    "               f\" departure_time={self.departure_time:.2f} )\"\n",
    "\n",
    "    def __lt__(self, other):\n",
    "        # this is necessary to sort jobs when they have the same arrival times.\n",
    "        return self.queue_length_at_arrival < other.queue_length_at_arrival\n"
   ]
  },
  {
   "cell_type": "code",
   "execution_count": 3,
   "metadata": {},
   "outputs": [],
   "source": [
    "\n",
    "\n",
    "def generate_jobs(A, S, p_business):\n",
    "    jobs = set()\n",
    "    num_jobs = len(A)\n",
    "    p = uniform(0, 1).rvs(num_jobs)\n",
    "\n",
    "    for n in range(num_jobs):\n",
    "        job = Job()\n",
    "        job.arrival_time = A[n]\n",
    "        job.service_time = S[n]\n",
    "\n",
    "        if p[n] < p_business:\n",
    "            job.customer_type = BUSINESS\n",
    "        else:\n",
    "            job.customer_type = ECONOMY\n",
    "\n",
    "        jobs.add(job)\n",
    "\n",
    "    return jobs\n"
   ]
  },
  {
   "cell_type": "code",
   "execution_count": 4,
   "metadata": {},
   "outputs": [],
   "source": [
    "\n",
    "\n",
    "class GGc_with_business:\n",
    "    def __init__(self, c, jobs):\n",
    "        self.b = 1  # number of b servers\n",
    "        self.c = c  # number of e servers\n",
    "        self.jobs = jobs\n",
    "\n",
    "        self.num_b_busy = 0\n",
    "        self.num_e_busy = 0\n",
    "        self.stack = []\n",
    "        self.b_queue = deque()\n",
    "        self.e_queue = deque()\n",
    "\n",
    "        for job in sorted(self.jobs, key=lambda j: j.arrival_time):\n",
    "            heappush(self.stack, (job.arrival_time, job, ARRIVAL))\n",
    "\n",
    "    def handle_arrival(self, time, job):\n",
    "        if job.customer_type == BUSINESS:\n",
    "            job.queue_length_at_arrival = len(self.b_queue)\n",
    "        else:\n",
    "            job.queue_length_at_arrival = len(self.e_queue)\n",
    "\n",
    "        if job.customer_type == ECONOMY:\n",
    "            if self.num_e_busy < self.c:\n",
    "                job.server_type = ECONOMY\n",
    "                self.start_service(time, job)\n",
    "            elif self.num_b_busy < self.b:\n",
    "                job.server_type = BUSINESS\n",
    "                self.start_service(time, job)\n",
    "            else:\n",
    "                self.e_queue.append(job)\n",
    "        else:  # business customer\n",
    "            if self.num_b_busy < self.b:\n",
    "                job.server_type = BUSINESS\n",
    "                self.start_service(time, job)\n",
    "            elif self.num_e_busy < self.c:\n",
    "                job.server_type = ECONOMY\n",
    "                self.start_service(time, job)\n",
    "            else:\n",
    "                self.b_queue.append(job)\n",
    "\n",
    "    def start_service(self, time, job):\n",
    "        if job.server_type == BUSINESS:\n",
    "            self.num_b_busy += 1\n",
    "        else:\n",
    "            self.num_e_busy += 1\n",
    "\n",
    "        job.departure_time = time + job.service_time\n",
    "        heappush(self.stack, (job.departure_time, job, DEPARTURE))\n",
    "\n",
    "    def start_service_from_queue(self, time, queue, server_type):\n",
    "        next_job = queue.popleft()\n",
    "        next_job.server_type = server_type\n",
    "        self.start_service(time, next_job)\n",
    "\n",
    "    def handle_departure(self, time, job):\n",
    "        if job.server_type == BUSINESS:\n",
    "            self.num_b_busy -= 1\n",
    "\n",
    "            if self.b_queue:\n",
    "                self.start_service_from_queue(time, self.b_queue, BUSINESS)\n",
    "            elif self.e_queue:\n",
    "                self.start_service_from_queue(time, self.e_queue, BUSINESS)\n",
    "        else:  # economy server free\n",
    "            self.num_e_busy -= 1\n",
    "\n",
    "            if self.e_queue:\n",
    "                self.start_service_from_queue(time, self.e_queue, ECONOMY)\n",
    "            elif self.b_queue:\n",
    "                self.start_service_from_queue(time, self.b_queue, ECONOMY)\n",
    "\n",
    "    def run(self):\n",
    "        while self.stack:  # not empty\n",
    "            time, job, epoch_type = heappop(self.stack)\n",
    "\n",
    "            if epoch_type == ARRIVAL:\n",
    "                self.handle_arrival(time, job)\n",
    "            else:\n",
    "                self.handle_departure(time, job)\n",
    "\n",
    "    def print_served_job(self):\n",
    "        for j in sorted(self.jobs, key=lambda j: j.arrival_time):\n",
    "            print(j)\n",
    "\n",
    "    def mean_waiting_time(self, customer_type=None):\n",
    "        if customer_type is None:\n",
    "            jobs = self.jobs\n",
    "        else:\n",
    "            jobs = set(j for j in self.jobs if j.customer_type == customer_type)\n",
    "\n",
    "        return sum(j.waiting_time() for j in jobs) / len(jobs)\n",
    "\n",
    "    def max_waiting_time(self, customer_type=None):\n",
    "        if customer_type is None:\n",
    "            return max(j.waiting_time() for j in self.jobs)\n",
    "        else:\n",
    "            return max(j.waiting_time() for j in self.jobs\n",
    "                       if j.customer_type == customer_type)"
   ]
  },
  {
   "cell_type": "code",
   "execution_count": 5,
   "metadata": {},
   "outputs": [],
   "source": [
    "def sakasegawa(F, G, c):\n",
    "    labda = 1.0 / F.mean()\n",
    "    ES = G.mean()\n",
    "    rho = labda * ES / c\n",
    "    EWQ_1 = rho ** (np.sqrt(2 * (c + 1)) - 1) / (c * (1 - rho)) * ES\n",
    "    ca2 = F.var() * labda * labda\n",
    "    ce2 = G.var() / ES / ES\n",
    "    return (ca2 + ce2) / 2 * EWQ_1\n"
   ]
  },
  {
   "cell_type": "code",
   "execution_count": 6,
   "metadata": {},
   "outputs": [],
   "source": [
    "\n",
    "\n",
    "def make_arrivals_and_services(F, G, num_jobs):\n",
    "    a = F.rvs(num_jobs)\n",
    "    A = np.cumsum(a)\n",
    "    S = G.rvs(num_jobs)\n",
    "    return A, S\n"
   ]
  },
  {
   "cell_type": "code",
   "execution_count": 7,
   "metadata": {},
   "outputs": [
    {
     "name": "stdout",
     "output_type": "stream",
     "text": [
      "Job( customer_type=B, server_type=B, arrival_time=1.00, service_time=0.50, service_start=1.00, departure_time=1.50 )\n",
      "Job( customer_type=B, server_type=B, arrival_time=2.00, service_time=0.50, service_start=2.00, departure_time=2.50 )\n",
      "Job( customer_type=B, server_type=B, arrival_time=3.00, service_time=0.50, service_start=3.00, departure_time=3.50 )\n",
      "Job( customer_type=B, server_type=B, arrival_time=4.00, service_time=0.50, service_start=4.00, departure_time=4.50 )\n",
      "Job( customer_type=B, server_type=B, arrival_time=5.00, service_time=0.50, service_start=5.00, departure_time=5.50 )\n"
     ]
    }
   ],
   "source": [
    "\n",
    "\n",
    "def DD1_test_1():\n",
    "    # test with only business customers\n",
    "    c = 0\n",
    "    F = uniform(1, 0.0001)\n",
    "    G = expon(0.5, 0.0001)\n",
    "    num_jobs = 5\n",
    "    p_business = 1\n",
    "    A, S = make_arrivals_and_services(F, G, num_jobs)\n",
    "    jobs = generate_jobs(A, S, p_business)\n",
    "    ggc = GGc_with_business(c, jobs)\n",
    "    ggc.run()\n",
    "    ggc.print_served_job()\n",
    "\n",
    "\n",
    "DD1_test_1()"
   ]
  },
  {
   "cell_type": "code",
   "execution_count": 8,
   "metadata": {},
   "outputs": [
    {
     "name": "stdout",
     "output_type": "stream",
     "text": [
      "Job( customer_type=E, server_type=E, arrival_time=1.00, service_time=0.50, service_start=1.00, departure_time=1.50 )\n",
      "Job( customer_type=E, server_type=E, arrival_time=2.00, service_time=0.50, service_start=2.00, departure_time=2.50 )\n",
      "Job( customer_type=E, server_type=E, arrival_time=3.00, service_time=0.50, service_start=3.00, departure_time=3.50 )\n",
      "Job( customer_type=E, server_type=E, arrival_time=4.00, service_time=0.50, service_start=4.00, departure_time=4.50 )\n",
      "Job( customer_type=E, server_type=E, arrival_time=5.00, service_time=0.50, service_start=5.00, departure_time=5.50 )\n"
     ]
    }
   ],
   "source": [
    "\n",
    "\n",
    "def DD1_test_2():\n",
    "    # test with only economy customers\n",
    "    c = 1\n",
    "    F = uniform(1, 0.0001)\n",
    "    G = expon(0.5, 0.0001)\n",
    "    p_business = 0\n",
    "    num_jobs = 5\n",
    "    A, S = make_arrivals_and_services(F, G, num_jobs)\n",
    "    jobs = generate_jobs(A, S, p_business)\n",
    "    ggc = GGc_with_business(c, jobs)\n",
    "    ggc.run()\n",
    "    ggc.print_served_job()\n",
    "\n",
    "\n",
    "DD1_test_2()"
   ]
  },
  {
   "cell_type": "code",
   "execution_count": 9,
   "metadata": {},
   "outputs": [
    {
     "name": "stdout",
     "output_type": "stream",
     "text": [
      "Job( customer_type=E, server_type=B, arrival_time=1.00, service_time=0.50, service_start=1.00, departure_time=1.50 )\n",
      "Job( customer_type=E, server_type=B, arrival_time=2.00, service_time=0.50, service_start=2.00, departure_time=2.50 )\n",
      "Job( customer_type=E, server_type=B, arrival_time=3.00, service_time=0.50, service_start=3.00, departure_time=3.50 )\n",
      "Job( customer_type=E, server_type=B, arrival_time=4.00, service_time=0.50, service_start=4.00, departure_time=4.50 )\n",
      "Job( customer_type=E, server_type=B, arrival_time=5.00, service_time=0.50, service_start=5.00, departure_time=5.50 )\n"
     ]
    }
   ],
   "source": [
    "\n",
    "\n",
    "def DD1_test_3():\n",
    "    # test with only economy customers but only a business server\n",
    "    c = 0\n",
    "    F = uniform(1, 0.0001)\n",
    "    G = expon(0.5, 0.0001)\n",
    "    p_business = 0\n",
    "    num_jobs = 5\n",
    "    A, S = make_arrivals_and_services(F, G, num_jobs)\n",
    "    jobs = generate_jobs(A, S, p_business)\n",
    "    ggc = GGc_with_business(c, jobs)\n",
    "    ggc.run()\n",
    "    ggc.print_served_job()\n",
    "\n",
    "\n",
    "DD1_test_3()"
   ]
  },
  {
   "cell_type": "code",
   "execution_count": 10,
   "metadata": {},
   "outputs": [
    {
     "name": "stdout",
     "output_type": "stream",
     "text": [
      "Job( customer_type=E, server_type=E, arrival_time=0.00, service_time=1.00, service_start=0.00, departure_time=1.00 )\n",
      "Job( customer_type=E, server_type=B, arrival_time=0.00, service_time=1.00, service_start=0.00, departure_time=1.00 )\n",
      "Job( customer_type=E, server_type=E, arrival_time=0.00, service_time=1.00, service_start=1.00, departure_time=2.00 )\n",
      "Job( customer_type=E, server_type=B, arrival_time=0.00, service_time=1.00, service_start=1.00, departure_time=2.00 )\n",
      "Job( customer_type=E, server_type=E, arrival_time=0.00, service_time=1.00, service_start=2.00, departure_time=3.00 )\n",
      "Job( customer_type=E, server_type=B, arrival_time=0.00, service_time=1.00, service_start=2.00, departure_time=3.00 )\n",
      "Job( customer_type=E, server_type=E, arrival_time=0.00, service_time=1.00, service_start=3.00, departure_time=4.00 )\n",
      "Job( customer_type=E, server_type=B, arrival_time=0.00, service_time=1.00, service_start=3.00, departure_time=4.00 )\n",
      "Job( customer_type=E, server_type=E, arrival_time=0.00, service_time=1.00, service_start=4.00, departure_time=5.00 )\n",
      "Job( customer_type=E, server_type=B, arrival_time=0.00, service_time=1.00, service_start=4.00, departure_time=5.00 )\n"
     ]
    }
   ],
   "source": [
    "\n",
    "\n",
    "def DD2_test_1():\n",
    "    # test with only economy customers and one e_server. As the b_server is always present, we must have 2 servers.\n",
    "    # assume that all jobs arrive at time 0, and have service time 1\n",
    "    c = 1\n",
    "    F = uniform(0, 0.0001)\n",
    "    G = expon(1, 0.0001)\n",
    "    p_business = 0\n",
    "    num_jobs = 10\n",
    "    A, S = make_arrivals_and_services(F, G, num_jobs)\n",
    "    jobs = generate_jobs(A, S, p_business)\n",
    "    ggc = GGc_with_business(c, jobs)\n",
    "    ggc.run()\n",
    "    ggc.print_served_job()\n",
    "\n",
    "\n",
    "DD2_test_1()"
   ]
  },
  {
   "cell_type": "code",
   "execution_count": 11,
   "metadata": {},
   "outputs": [
    {
     "name": "stdout",
     "output_type": "stream",
     "text": [
      "Job( customer_type=B, server_type=B, arrival_time=0.98, service_time=0.94, service_start=0.98, departure_time=1.92 )\n",
      "Job( customer_type=B, server_type=B, arrival_time=2.35, service_time=1.71, service_start=2.35, departure_time=4.05 )\n",
      "Job( customer_type=B, server_type=B, arrival_time=3.14, service_time=0.75, service_start=4.05, departure_time=4.80 )\n",
      "Job( customer_type=B, server_type=B, arrival_time=5.11, service_time=2.80, service_start=5.11, departure_time=7.91 )\n",
      "Job( customer_type=B, server_type=B, arrival_time=6.53, service_time=1.29, service_start=7.91, departure_time=9.19 )\n",
      "Job( customer_type=B, server_type=B, arrival_time=8.76, service_time=0.20, service_start=9.19, departure_time=9.39 )\n",
      "Job( customer_type=B, server_type=B, arrival_time=9.01, service_time=0.97, service_start=9.39, departure_time=10.36 )\n",
      "Job( customer_type=B, server_type=B, arrival_time=9.41, service_time=0.83, service_start=10.36, departure_time=11.18 )\n",
      "Job( customer_type=B, server_type=B, arrival_time=10.13, service_time=1.44, service_start=11.18, departure_time=12.62 )\n",
      "Job( customer_type=B, server_type=B, arrival_time=10.88, service_time=1.64, service_start=12.62, departure_time=14.27 )\n"
     ]
    }
   ],
   "source": [
    "\n",
    "\n",
    "def mm1_test_1():\n",
    "    # test with only business customers but no e_server, very few jobs\n",
    "    c = 0\n",
    "    labda = 0.9\n",
    "    mu = 1\n",
    "    F = expon(scale=1.0 / labda)\n",
    "    G = expon(scale=1.0 / mu)\n",
    "    p_business = 1\n",
    "\n",
    "    num_jobs = 10\n",
    "    A, S = make_arrivals_and_services(F, G, num_jobs)\n",
    "    jobs = generate_jobs(A, S, p_business)\n",
    "    ggc = GGc_with_business(c, jobs)\n",
    "    ggc.run()\n",
    "    ggc.print_served_job()\n",
    "\n",
    "\n",
    "mm1_test_1()"
   ]
  },
  {
   "cell_type": "code",
   "execution_count": 12,
   "metadata": {},
   "outputs": [
    {
     "name": "stdout",
     "output_type": "stream",
     "text": [
      "theory:  8.999999999999991\n",
      "mean waiting:  8.717092494163204\n"
     ]
    }
   ],
   "source": [
    "\n",
    "\n",
    "def mm1_test_2():\n",
    "    # test with only economy customers but no e_server\n",
    "    c = 0\n",
    "    labda = 0.9\n",
    "    mu = 1\n",
    "    F = expon(scale=1.0 / labda)\n",
    "    G = expon(scale=1.0 / mu)\n",
    "    p_business = 0\n",
    "\n",
    "    print(\"theory: \", sakasegawa(F, G, c + 1))  # 1 for the business server\n",
    "\n",
    "    num_jobs = 100_000\n",
    "    A, S = make_arrivals_and_services(F, G, num_jobs)\n",
    "    jobs = generate_jobs(A, S, p_business)\n",
    "    ggc = GGc_with_business(c, jobs)\n",
    "    ggc.run()\n",
    "\n",
    "    print(\"mean waiting: \", ggc.mean_waiting_time())\n",
    "\n",
    "\n",
    "mm1_test_2()"
   ]
  },
  {
   "cell_type": "code",
   "execution_count": 13,
   "metadata": {},
   "outputs": [
    {
     "name": "stdout",
     "output_type": "stream",
     "text": [
      "theory:  8.999999999999991\n",
      "mean waiting:  9.736027176700453\n"
     ]
    }
   ],
   "source": [
    "\n",
    "\n",
    "def mm1_test_3():\n",
    "    # test with only business customers but no e_server\n",
    "    c = 0\n",
    "    labda = 0.9\n",
    "    mu = 1\n",
    "    F = expon(scale=1.0 / labda)\n",
    "    G = expon(scale=1.0 / mu)\n",
    "    p_business = 1\n",
    "\n",
    "    print(\"theory: \", sakasegawa(F, G, c + 1))  # 1 for the business server\n",
    "\n",
    "    num_jobs = 100_000\n",
    "    A, S = make_arrivals_and_services(F, G, num_jobs)\n",
    "    jobs = generate_jobs(A, S, p_business)\n",
    "    ggc = GGc_with_business(c, jobs)\n",
    "    ggc.run()\n",
    "\n",
    "    print(\"mean waiting: \", ggc.mean_waiting_time())\n",
    "\n",
    "\n",
    "mm1_test_3()"
   ]
  },
  {
   "cell_type": "code",
   "execution_count": 14,
   "metadata": {},
   "outputs": [
    {
     "name": "stdout",
     "output_type": "stream",
     "text": [
      "theory:  0.28572116393706454\n",
      "mean waiting:  0.2624273514424348\n"
     ]
    }
   ],
   "source": [
    "\n",
    "\n",
    "def mm2_test_1():\n",
    "    # test with only business customers and 1 e_server\n",
    "    c = 1\n",
    "    labda = 0.9\n",
    "    mu = 1\n",
    "    F = expon(scale=1.0 / labda)\n",
    "    G = expon(scale=1.0 / mu)\n",
    "    p_business = 1\n",
    "\n",
    "    print(\"theory: \", sakasegawa(F, G, c + 1))  # 1 for the business server\n",
    "\n",
    "    num_jobs = 100_000\n",
    "    A, S = make_arrivals_and_services(F, G, num_jobs)\n",
    "    jobs = generate_jobs(A, S, p_business)\n",
    "    ggc = GGc_with_business(c, jobs)\n",
    "    ggc.run()\n",
    "\n",
    "    # mind that Sakasegawa's result is an approximation for the M/M/c with c>1\n",
    "    print(\"mean waiting: \", ggc.mean_waiting_time())\n",
    "\n",
    "\n",
    "mm2_test_1()\n"
   ]
  },
  {
   "cell_type": "code",
   "execution_count": 15,
   "metadata": {},
   "outputs": [
    {
     "name": "stdout",
     "output_type": "stream",
     "text": [
      "theory:  0.28572116393706454\n",
      "mean waiting:  0.26170817081857584\n"
     ]
    }
   ],
   "source": [
    "\n",
    "\n",
    "def mm2_test_2():\n",
    "    # test with only economy customers and 1 e_server\n",
    "    c = 1\n",
    "    labda = 0.9\n",
    "    mu = 1\n",
    "    F = expon(scale=1.0 / labda)\n",
    "    G = expon(scale=1.0 / mu)\n",
    "    p_business = 0\n",
    "\n",
    "    print(\"theory: \", sakasegawa(F, G, c + 1))  # 1 for the business server\n",
    "\n",
    "    num_jobs = 100_000\n",
    "    A, S = make_arrivals_and_services(F, G, num_jobs)\n",
    "    jobs = generate_jobs(A, S, p_business)\n",
    "    ggc = GGc_with_business(c, jobs)\n",
    "    ggc.run()\n",
    "\n",
    "    print(\"mean waiting: \", ggc.mean_waiting_time())\n",
    "\n",
    "\n",
    "mm2_test_2()"
   ]
  },
  {
   "cell_type": "code",
   "execution_count": 16,
   "metadata": {},
   "outputs": [],
   "source": [
    "import copy  # to copy the simulation data\n",
    "\n",
    "\n",
    "def case_analysis(jobs, c):\n",
    "    # we need the same jobs for all cases, so that we can compare in a fair way.\n",
    "    b_jobs = set(copy.copy(j) for j in jobs if j.customer_type == BUSINESS)\n",
    "    e_jobs = set(copy.copy(j) for j in jobs if j.customer_type == ECONOMY)\n",
    "\n",
    "    # Case 1: each class its own server, no sharing\n",
    "    bus = GGc_with_business(0, b_jobs)\n",
    "    bus.run()\n",
    "\n",
    "    eco = GGc_with_business(c - 1, e_jobs)\n",
    "    eco.run()\n",
    "\n",
    "    # Case 2: sharing with business server\n",
    "    shared = GGc_with_business(c, jobs)\n",
    "    shared.run()\n",
    "\n",
    "    print(\"separate: bus mean\", bus.mean_waiting_time())\n",
    "    print(\"shared: bus mean: \", shared.mean_waiting_time(BUSINESS))\n",
    "    print(\"separate: bus max\", bus.max_waiting_time())\n",
    "    print(\"shared: bus max: \", shared.max_waiting_time(BUSINESS))\n",
    "\n",
    "    print(\"separate: eco mean\", eco.mean_waiting_time())\n",
    "    print(\"shared: eco mean: \", shared.mean_waiting_time(ECONOMY))\n",
    "    print(\"separate: eco max\", eco.max_waiting_time())\n",
    "    print(\"shared: eco max: \", shared.max_waiting_time(ECONOMY))\n",
    "\n",
    "    print(\"shared: all mean: \", shared.mean_waiting_time())\n",
    "    print(\"shared: all max: \", shared.max_waiting_time())\n",
    "    print()\n"
   ]
  },
  {
   "cell_type": "code",
   "execution_count": 17,
   "metadata": {},
   "outputs": [
    {
     "name": "stdout",
     "output_type": "stream",
     "text": [
      "separate: bus mean 2.620893590927029\n",
      "shared: bus mean:  4.307184870016928\n",
      "separate: bus max 9.757114669693307\n",
      "shared: bus max:  11.170118916403565\n",
      "separate: eco mean 16.194420279720028\n",
      "shared: eco mean:  14.588690139023202\n",
      "separate: eco max 30.126955061480285\n",
      "shared: eco max:  26.081439961405717\n",
      "shared: all mean:  13.629082980582615\n",
      "shared: all max:  26.081439961405717\n",
      "\n"
     ]
    }
   ],
   "source": [
    "\n",
    "\n",
    "def case1():\n",
    "    num_jobs = 300\n",
    "    opening_time_of_desks = 60  # minutes\n",
    "    labda = num_jobs / opening_time_of_desks\n",
    "    F = expon(scale=1.0 / labda)\n",
    "    G = uniform(1, 2)\n",
    "    p_business = 0.1\n",
    "    c = 6\n",
    "    A, S = make_arrivals_and_services(F, G, num_jobs)\n",
    "    jobs = generate_jobs(A, S, p_business)\n",
    "    case_analysis(jobs, c)\n",
    "\n",
    "\n",
    "case1()"
   ]
  },
  {
   "cell_type": "code",
   "execution_count": 18,
   "metadata": {},
   "outputs": [
    {
     "name": "stdout",
     "output_type": "stream",
     "text": [
      "separate: bus mean 0.23674610086377798\n",
      "shared: bus mean:  0.13773541717589444\n",
      "separate: bus max 1.9737835833394382\n",
      "shared: bus max:  1.6670768334516914\n",
      "separate: eco mean 0.22297372849376576\n",
      "shared: eco mean:  0.07389087535485549\n",
      "separate: eco max 1.915034710474636\n",
      "shared: eco max:  0.9348786384353573\n",
      "shared: all mean:  0.07814717814292477\n",
      "shared: all max:  1.6670768334516914\n",
      "\n"
     ]
    }
   ],
   "source": [
    "\n",
    "\n",
    "def case2():\n",
    "    num_jobs = 300\n",
    "    labda = num_jobs / 180\n",
    "    F = expon(scale=1.0 / labda)\n",
    "    G = uniform(1, 2)\n",
    "    p_business = 0.05\n",
    "    c = 5\n",
    "    A, S = make_arrivals_and_services(F, G, num_jobs)\n",
    "    jobs = generate_jobs(A, S, p_business)\n",
    "    case_analysis(jobs, c)\n",
    "\n",
    "\n",
    "case2()\n"
   ]
  }
 ],
 "metadata": {
  "anaconda-cloud": {},
  "kernelspec": {
   "display_name": "Python 3",
   "language": "python",
   "name": "python3"
  },
  "language_info": {
   "codemirror_mode": {
    "name": "ipython",
    "version": 3
   },
   "file_extension": ".py",
   "mimetype": "text/x-python",
   "name": "python",
   "nbconvert_exporter": "python",
   "pygments_lexer": "ipython3",
   "version": "3.7.1"
  }
 },
 "nbformat": 4,
 "nbformat_minor": 1
}
