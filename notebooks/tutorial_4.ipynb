{
 "cells": [
  {
   "cell_type": "markdown",
   "metadata": {},
   "source": [
    "# Tutorial 4, solutions\n",
    "\n",
    "\n",
    "This solution is a jupyter notebook which allows you to directly interact with the code so that\n",
    "you can see the effect of any changes you may like to make.\n",
    "\n",
    "Author: Nicky van Foreest"
   ]
  },
  {
   "cell_type": "code",
   "execution_count": 1,
   "metadata": {},
   "outputs": [],
   "source": [
    "# empty code for numbering"
   ]
  },
  {
   "cell_type": "code",
   "execution_count": 2,
   "metadata": {},
   "outputs": [],
   "source": [
    "# empty code for numbering"
   ]
  },
  {
   "cell_type": "code",
   "execution_count": 3,
   "metadata": {},
   "outputs": [],
   "source": [
    "# empty code for numbering"
   ]
  },
  {
   "cell_type": "code",
   "execution_count": 4,
   "metadata": {},
   "outputs": [],
   "source": [
    "from collections import deque\n",
    "from heapq import heappop, heappush\n",
    "import numpy as np\n",
    "from scipy.stats import expon, uniform\n",
    "\n",
    "np.random.seed(8)\n",
    "\n",
    "ARRIVAL = 0\n",
    "DEPARTURE = 1\n",
    "\n",
    "\n",
    "class Job:\n",
    "    def __init__(self):\n",
    "        self.arrival_time = 0\n",
    "        self.service_time = 0\n",
    "        self.departure_time = 0\n",
    "        self.queue_length_at_arrival = 0\n",
    "\n",
    "    def sojourn_time(self):\n",
    "        return self.departure_time - self.arrival_time\n",
    "\n",
    "    def waiting_time(self):\n",
    "        return self.sojourn_time() - self.service_time\n",
    "\n",
    "    def __repr__(self):\n",
    "        return f\"{self.arrival_time}, {self.service_time}, {self.departure_time}\\n\"\n",
    "\n",
    "    def __lt__(self, other):\n",
    "        # this is necessary to sort jobs when they have the same arrival times.\n",
    "        return self.queue_length_at_arrival < other.queue_length_at_arrival\n",
    "\n",
    "\n",
    "class GGc:\n",
    "    def __init__(self, jobs, c):\n",
    "        self.jobs = jobs\n",
    "        self.c = c\n",
    "        self.num_busy = 0  # number of busy servers\n",
    "        self.stack = []  # event stack\n",
    "        self.queue = deque()\n",
    "        self.served_jobs = []\n",
    "\n",
    "    def handle_arrival(self, time, job):\n",
    "        job.queue_length_at_arrival = len(self.queue)\n",
    "        if self.num_busy < self.c:\n",
    "            self.start_service(time, job)\n",
    "        else:\n",
    "            self.queue.append(job)\n",
    "\n",
    "    def put_new_arrivals_on_stack(self):\n",
    "        while self.jobs:\n",
    "            job = self.jobs.popleft()\n",
    "            heappush(self.stack, (job.arrival_time, job, ARRIVAL))\n",
    "\n",
    "    def start_service(self, time, job):\n",
    "        self.num_busy += 1  # server becomes busy.\n",
    "        job.departure_time = time + job.service_time\n",
    "        heappush(self.stack, (job.departure_time, job, DEPARTURE))\n",
    "\n",
    "    def handle_departure(self, time, job):\n",
    "        self.num_busy -= 1\n",
    "        self.served_jobs.append(job)\n",
    "        if self.queue:  # not empty\n",
    "            next_job = self.queue.popleft()\n",
    "            self.start_service(time, next_job)\n",
    "\n",
    "    def consistency_check(self):\n",
    "        if (\n",
    "            self.num_busy < 0\n",
    "            or self.num_busy > self.c\n",
    "            or len(self.queue) < 0\n",
    "            or (len(self.queue) > 0 and self.num_busy < self.c)\n",
    "        ):\n",
    "            print(\"there is something wrong\")\n",
    "            quit()\n",
    "\n",
    "    def run(self):\n",
    "        time = 0\n",
    "        self.put_new_arrivals_on_stack()\n",
    "\n",
    "        while self.stack:  # not empty\n",
    "            time, job, typ = heappop(self.stack)\n",
    "            # self.consistency_check() # use only when testing.\n",
    "            if typ == ARRIVAL:\n",
    "                self.handle_arrival(time, job)\n",
    "            else:\n",
    "                self.handle_departure(time, job)\n",
    "\n",
    "def make_jobs(arrival_times, service_times_jobs):\n",
    "    jobs = deque()\n",
    "    for a, s in zip(arrival_times, service_times_jobs):\n",
    "        job = Job()\n",
    "        job.arrival_time = a\n",
    "        job.service_time = s\n",
    "        jobs.append(job)\n",
    "\n",
    "    return jobs\n",
    "    "
   ]
  },
  {
   "cell_type": "code",
   "execution_count": 5,
   "metadata": {},
   "outputs": [
    {
     "name": "stdout",
     "output_type": "stream",
     "text": [
      "[10, 25.0, 35.0\n",
      ", 20, 25.0, 60.0\n",
      ", 30, 25.0, 85.0\n",
      ", 40, 25.0, 110.0\n",
      ", 50, 25.0, 135.0\n",
      ", 60, 25.0, 160.0\n",
      ", 70, 25.0, 185.0\n",
      ", 80, 25.0, 210.0\n",
      ", 90, 25.0, 235.0\n",
      ", 100, 25.0, 260.0\n",
      "]\n"
     ]
    }
   ],
   "source": [
    "def ddc_test():\n",
    "    num_jobs = 10\n",
    "    a = [10] * num_jobs\n",
    "    A = np.cumsum(a)\n",
    "    S = [25.0] * num_jobs\n",
    "\n",
    "    jobs = make_jobs(A, S)\n",
    "    c = 1\n",
    "\n",
    "    ggc = GGc(jobs, c)\n",
    "    ggc.run()\n",
    "    print(ggc.served_jobs)\n",
    "\n",
    "\n",
    "ddc_test()"
   ]
  },
  {
   "cell_type": "code",
   "execution_count": 6,
   "metadata": {},
   "outputs": [],
   "source": [
    "def sakasegawa(F, G, c):\n",
    "    labda = 1.0 / F.mean()\n",
    "    ES = G.mean()\n",
    "    rho = labda * ES / c\n",
    "    EWQ_1 = rho ** (np.sqrt(2 * (c + 1)) - 1) / (c * (1 - rho)) * ES\n",
    "    ca2 = F.var() * labda * labda\n",
    "    ce2 = G.var() / ES / ES\n",
    "    return (ca2 + ce2) / 2 * EWQ_1\n"
   ]
  },
  {
   "cell_type": "code",
   "execution_count": 7,
   "metadata": {},
   "outputs": [
    {
     "name": "stdout",
     "output_type": "stream",
     "text": [
      "M/M/1 TEST\n",
      "Theo avg. waiting time in queue: 4.000000000000001\n",
      "Simu avg. waiting time in queue: 3.1991979307373186\n",
      "M/M/1 TEST\n",
      "Theo avg. waiting time in queue: 4.000000000000001\n",
      "Simu avg. waiting time in queue: 3.8471631478647166\n"
     ]
    }
   ],
   "source": [
    "def mm1_test(labda=0.8, mu=1, num_jobs=100):\n",
    "    c = 1\n",
    "    F = expon(scale=1.0 / labda)\n",
    "    G = expon(scale=1.0 / mu)\n",
    "    a = F.rvs(num_jobs)\n",
    "    A = np.cumsum(a)\n",
    "    S = G.rvs(num_jobs)\n",
    "    jobs = make_jobs(A, S)\n",
    "\n",
    "    ggc = GGc(jobs, c)\n",
    "    ggc.run()\n",
    "    tot_wait_in_q = sum(j.waiting_time() for j in ggc.served_jobs)\n",
    "    avg_wait_in_q = tot_wait_in_q / len(ggc.served_jobs)\n",
    "    # print(sorted(ggc.served_jobs, key=lambda job: job.arrival_time))\n",
    "\n",
    "    print(\"M/M/1 TEST\")\n",
    "    print(\"Theo avg. waiting time in queue:\", sakasegawa(F, G, c))\n",
    "    print(\"Simu avg. waiting time in queue:\", avg_wait_in_q)\n",
    "\n",
    "mm1_test(num_jobs=100)\n",
    "mm1_test(num_jobs=100_000)"
   ]
  },
  {
   "cell_type": "code",
   "execution_count": 8,
   "metadata": {},
   "outputs": [
    {
     "name": "stdout",
     "output_type": "stream",
     "text": [
      "M/D/1 TEST\n",
      "Theo avg. waiting time in queue: 4.502476129258166\n",
      "Simu avg. waiting time in queue: 1.5502682133003882\n",
      "M/D/1 TEST\n",
      "Theo avg. waiting time in queue: 4.502476129258166\n",
      "Simu avg. waiting time in queue: 4.425310068732756\n"
     ]
    }
   ],
   "source": [
    "def md1_test(labda=0.9, mu=1, num_jobs=100):\n",
    "    c = 1\n",
    "    F = expon(scale=1.0 / labda)\n",
    "    G = uniform(mu, 0.0001)\n",
    "    a = F.rvs(num_jobs)\n",
    "    A = np.cumsum(a)\n",
    "    S = G.rvs(num_jobs)\n",
    "    jobs = make_jobs(A, S)\n",
    "\n",
    "    ggc = GGc(jobs, c)\n",
    "    ggc.run()\n",
    "    tot_wait_in_q = sum(j.waiting_time() for j in ggc.served_jobs)\n",
    "    avg_wait_in_q = tot_wait_in_q / len(ggc.served_jobs)\n",
    "\n",
    "    print(\"M/D/1 TEST\")\n",
    "    print(\"Theo avg. waiting time in queue:\", sakasegawa(F, G, c))\n",
    "    print(\"Simu avg. waiting time in queue:\", avg_wait_in_q)\n",
    "\n",
    "\n",
    "md1_test(num_jobs=100)\n",
    "md1_test(num_jobs=100_000)"
   ]
  },
  {
   "cell_type": "code",
   "execution_count": 9,
   "metadata": {},
   "outputs": [
    {
     "name": "stdout",
     "output_type": "stream",
     "text": [
      "M/D/2 TEST\n",
      "Theo avg. waiting time in queue: 2.1471563068088955\n",
      "Simu avg. waiting time in queue: 1.056830785567397\n",
      "M/D/2 TEST\n",
      "Theo avg. waiting time in queue: 2.1471563068088955\n",
      "Simu avg. waiting time in queue: 2.104471549206051\n"
     ]
    }
   ],
   "source": [
    "def md2_test(labda=1.8, mu=1, num_jobs=100):\n",
    "    c = 2\n",
    "    F = expon(scale=1.0 / labda)\n",
    "    G = uniform(mu, 0.0001)\n",
    "    a = F.rvs(num_jobs)\n",
    "    A = np.cumsum(a)\n",
    "    S = G.rvs(num_jobs)\n",
    "    jobs = make_jobs(A, S)\n",
    "\n",
    "    ggc = GGc(jobs, c)\n",
    "    ggc.run()\n",
    "    tot_wait_in_q = sum(j.waiting_time() for j in ggc.served_jobs)\n",
    "    avg_wait_in_q = tot_wait_in_q / len(ggc.served_jobs)\n",
    "\n",
    "    print(\"M/D/2 TEST\")\n",
    "    print(\"Theo avg. waiting time in queue:\", sakasegawa(F, G, c))\n",
    "    print(\"Simu avg. waiting time in queue:\", avg_wait_in_q)\n",
    "\n",
    "\n",
    "md2_test(num_jobs=100)\n",
    "md2_test(num_jobs=100_000)"
   ]
  },
  {
   "cell_type": "code",
   "execution_count": 10,
   "metadata": {},
   "outputs": [],
   "source": [
    "num_jobs = 300\n",
    "A = np.sort(uniform(0, 120).rvs(num_jobs))"
   ]
  },
  {
   "cell_type": "code",
   "execution_count": 11,
   "metadata": {},
   "outputs": [],
   "source": [
    "# empty code for numbering"
   ]
  },
  {
   "cell_type": "code",
   "execution_count": 12,
   "metadata": {},
   "outputs": [],
   "source": [
    "# empty code for numbering"
   ]
  },
  {
   "cell_type": "code",
   "execution_count": 13,
   "metadata": {},
   "outputs": [],
   "source": [
    "# empty code for numbering"
   ]
  },
  {
   "cell_type": "code",
   "execution_count": 14,
   "metadata": {},
   "outputs": [
    {
     "name": "stdout",
     "output_type": "stream",
     "text": [
      "29.46162359147293 138\n",
      "Num servers, max waiting time, num longer than 10\n",
      "3 124.32430457858982 277\n",
      "4 63.53258278284177 257\n",
      "5 27.76425370137397 166\n",
      "6 9.360486194973408 0\n",
      "7 3.5159286042911075 0\n",
      "8 1.4481327878524974 0\n",
      "9 0.9454477224419799 0\n"
     ]
    }
   ],
   "source": [
    "def intake_process():\n",
    "    num_jobs = 300\n",
    "    A = np.sort(uniform(0, 120).rvs(num_jobs))\n",
    "    S = uniform(1, 3).rvs(num_jobs)\n",
    "    jobs = make_jobs(A, S)\n",
    "\n",
    "    ggc = GGc(jobs, c=5)\n",
    "    ggc.run()\n",
    "\n",
    "    max_waiting_time = max(j.waiting_time() for j in ggc.served_jobs)\n",
    "    longer_ten = sum((j.waiting_time() >= 10) for j in ggc.served_jobs)\n",
    "    print(max_waiting_time, longer_ten)\n",
    "\n",
    "\n",
    "intake_process()\n",
    "\n",
    "def intake_test_1():\n",
    "    num_jobs = 300\n",
    "    A = np.sort(uniform(0, 120).rvs(num_jobs))\n",
    "    S = uniform(1, 3).rvs(num_jobs)\n",
    "\n",
    "    print(\"Num servers, max waiting time, num longer than 10\")\n",
    "    for c in range(3, 10):\n",
    "        jobs = make_jobs(A, S)\n",
    "        ggc = GGc(jobs, c)\n",
    "        ggc.run()\n",
    "\n",
    "        max_waiting_time = max(j.waiting_time() for j in ggc.served_jobs)\n",
    "        longer_ten = sum((j.waiting_time() >= 10) for j in ggc.served_jobs)\n",
    "        print(c, max_waiting_time, longer_ten)\n",
    "\n",
    "\n",
    "intake_test_1()\n"
   ]
  }
 ],
 "metadata": {
  "anaconda-cloud": {},
  "kernelspec": {
   "display_name": "Python 3",
   "language": "python",
   "name": "python3"
  },
  "language_info": {
   "codemirror_mode": {
    "name": "ipython",
    "version": 3
   },
   "file_extension": ".py",
   "mimetype": "text/x-python",
   "name": "python",
   "nbconvert_exporter": "python",
   "pygments_lexer": "ipython3",
   "version": "3.7.5"
  }
 },
 "nbformat": 4,
 "nbformat_minor": 1
}
